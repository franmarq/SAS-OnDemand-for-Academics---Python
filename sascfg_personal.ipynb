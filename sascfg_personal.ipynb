{
  "nbformat": 4,
  "nbformat_minor": 0,
  "metadata": {
    "colab": {
      "name": "sascfg_personal.ipynb",
      "provenance": [],
      "collapsed_sections": [],
      "authorship_tag": "ABX9TyNw6QFjKywGDevO21+334oQ",
      "include_colab_link": true
    },
    "kernelspec": {
      "name": "python3",
      "display_name": "Python 3"
    },
    "language_info": {
      "name": "python"
    }
  },
  "cells": [
    {
      "cell_type": "markdown",
      "metadata": {
        "id": "view-in-github",
        "colab_type": "text"
      },
      "source": [
        "<a href=\"https://colab.research.google.com/github/franmarq/SAS-OnDemand-for-Academics---Python/blob/main/sascfg_personal.ipynb\" target=\"_parent\"><img src=\"https://colab.research.google.com/assets/colab-badge.svg\" alt=\"Open In Colab\"/></a>"
      ]
    },
    {
      "cell_type": "code",
      "metadata": {
        "id": "4IEii8R3ctRd",
        "colab": {
          "base_uri": "https://localhost:8080/"
        },
        "outputId": "5d4bdd46-e8ef-41a0-e323-0228b28a3aad"
      },
      "source": [
        "!pip install saspy"
      ],
      "execution_count": 1,
      "outputs": [
        {
          "output_type": "stream",
          "text": [
            "Collecting saspy\n",
            "\u001b[?25l  Downloading https://files.pythonhosted.org/packages/7b/85/6cd18c87be1a657b695e74bd20d1b64b39a84a77a456c6d1dd47d9872b4a/saspy-3.7.2.tar.gz (6.4MB)\n",
            "\u001b[K     |████████████████████████████████| 6.4MB 5.2MB/s \n",
            "\u001b[?25hBuilding wheels for collected packages: saspy\n",
            "  Building wheel for saspy (setup.py) ... \u001b[?25l\u001b[?25hdone\n",
            "  Created wheel for saspy: filename=saspy-3.7.2-cp37-none-any.whl size=6419248 sha256=5ab8ae207193f6168adda457e3b1312fe90bbeb2e0a09c9427bb26337f14bc78\n",
            "  Stored in directory: /root/.cache/pip/wheels/97/15/b9/04c61c8b6c0e6b28e8e8772af8b4e4b71312978e9107c3f71b\n",
            "Successfully built saspy\n",
            "Installing collected packages: saspy\n",
            "Successfully installed saspy-3.7.2\n"
          ],
          "name": "stdout"
        }
      ]
    },
    {
      "cell_type": "code",
      "metadata": {
        "id": "q_emZ7N4bvYW",
        "colab": {
          "base_uri": "https://localhost:8080/"
        },
        "outputId": "acfdb08c-06c5-4050-c3f0-5056f6f584bd"
      },
      "source": [
        "import saspy, os\n",
        "print(saspy.__file__.replace('__init__.py', 'sascfg_personal.py'))"
      ],
      "execution_count": null,
      "outputs": [
        {
          "output_type": "stream",
          "text": [
            "/usr/local/lib/python3.7/dist-packages/saspy/sascfg_personal.py\n"
          ],
          "name": "stdout"
        }
      ]
    },
    {
      "cell_type": "code",
      "metadata": {
        "colab": {
          "base_uri": "https://localhost:8080/"
        },
        "id": "pYCmXMY6DbMy",
        "outputId": "b85de779-620b-4557-8d6f-4570930b74b3"
      },
      "source": [
        "saspy"
      ],
      "execution_count": null,
      "outputs": [
        {
          "output_type": "execute_result",
          "data": {
            "text/plain": [
              "<module 'saspy' from '/usr/local/lib/python3.7/dist-packages/saspy/__init__.py'>"
            ]
          },
          "metadata": {
            "tags": []
          },
          "execution_count": 22
        }
      ]
    },
    {
      "cell_type": "code",
      "metadata": {
        "id": "hq9AOFcDesu0",
        "colab": {
          "base_uri": "https://localhost:8080/"
        },
        "outputId": "fe1a71a2-5829-42ba-cdb9-38d65b6b4a46"
      },
      "source": [
        "import saspy\n",
        "sas_session = saspy.SASsession()\n",
        "sas_session"
      ],
      "execution_count": 3,
      "outputs": [
        {
          "output_type": "stream",
          "text": [
            "Using SAS Config named: oda\n",
            "Error trying to read authinfo file:/root/.authinfo\n",
            "[Errno 2] No such file or directory: '/root/.authinfo'\n",
            "Did not find key oda in authinfo file:/root/.authinfo\n",
            "\n",
            "Please enter the IOM user id: franmarq@gmail.com\n",
            "Please enter the password for IOM user : ··········\n",
            "SAS Connection established. Subprocess id is 279\n",
            "\n"
          ],
          "name": "stdout"
        },
        {
          "output_type": "execute_result",
          "data": {
            "text/plain": [
              "Access Method         = IOM\n",
              "SAS Config name       = oda\n",
              "SAS Config file       = /usr/local/lib/python3.7/dist-packages/saspy/sascfg_personal.py\n",
              "WORK Path             = /saswork/SAS_work31740000F1CD_odaws04-usw2.oda.sas.com/SAS_workEBBE0000F1CD_odaws04-usw2.oda.sas.com/\n",
              "SAS Version           = 9.04.01M6P11072018\n",
              "SASPy Version         = 3.7.2\n",
              "Teach me SAS          = False\n",
              "Batch                 = False\n",
              "Results               = Pandas\n",
              "SAS Session Encoding  = utf-8\n",
              "Python Encoding value = utf-8\n",
              "SAS process Pid value = 61901\n"
            ]
          },
          "metadata": {
            "tags": []
          },
          "execution_count": 3
        }
      ]
    },
    {
      "cell_type": "code",
      "metadata": {
        "id": "ElH5C9SxZ0lH"
      },
      "source": [
        "import saspy\n",
        "import pandas as pd"
      ],
      "execution_count": 5,
      "outputs": []
    }
  ]
}