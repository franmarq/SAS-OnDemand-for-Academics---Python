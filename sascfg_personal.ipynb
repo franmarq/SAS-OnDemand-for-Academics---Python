{
  "nbformat": 4,
  "nbformat_minor": 0,
  "metadata": {
    "colab": {
      "name": "sascfg_personal.ipynb",
      "provenance": [],
      "collapsed_sections": [],
      "authorship_tag": "ABX9TyNndUhOFCM4S9ap7qmGmgb3",
      "include_colab_link": true
    },
    "kernelspec": {
      "name": "python3",
      "display_name": "Python 3"
    },
    "language_info": {
      "name": "python"
    }
  },
  "cells": [
    {
      "cell_type": "markdown",
      "metadata": {
        "id": "view-in-github",
        "colab_type": "text"
      },
      "source": [
        "<a href=\"https://colab.research.google.com/github/franmarq/SAS-OnDemand-for-Academics---Python/blob/main/sascfg_personal.ipynb\" target=\"_parent\"><img src=\"https://colab.research.google.com/assets/colab-badge.svg\" alt=\"Open In Colab\"/></a>"
      ]
    },
    {
      "cell_type": "code",
      "metadata": {
        "id": "4IEii8R3ctRd",
        "colab": {
          "base_uri": "https://localhost:8080/"
        },
        "outputId": "639ac41a-f1e5-4a9e-9de7-564f90fe2089"
      },
      "source": [
        "!pip install saspy"
      ],
      "execution_count": null,
      "outputs": [
        {
          "output_type": "stream",
          "text": [
            "Requirement already satisfied: saspy in /usr/local/lib/python3.7/dist-packages (3.7.2)\n"
          ],
          "name": "stdout"
        }
      ]
    },
    {
      "cell_type": "code",
      "metadata": {
        "id": "q_emZ7N4bvYW",
        "colab": {
          "base_uri": "https://localhost:8080/"
        },
        "outputId": "acfdb08c-06c5-4050-c3f0-5056f6f584bd"
      },
      "source": [
        "import saspy, os\n",
        "print(saspy.__file__.replace('__init__.py', 'sascfg_personal.py'))"
      ],
      "execution_count": null,
      "outputs": [
        {
          "output_type": "stream",
          "text": [
            "/usr/local/lib/python3.7/dist-packages/saspy/sascfg_personal.py\n"
          ],
          "name": "stdout"
        }
      ]
    },
    {
      "cell_type": "code",
      "metadata": {
        "colab": {
          "base_uri": "https://localhost:8080/"
        },
        "id": "pYCmXMY6DbMy",
        "outputId": "b85de779-620b-4557-8d6f-4570930b74b3"
      },
      "source": [
        "saspy"
      ],
      "execution_count": null,
      "outputs": [
        {
          "output_type": "execute_result",
          "data": {
            "text/plain": [
              "<module 'saspy' from '/usr/local/lib/python3.7/dist-packages/saspy/__init__.py'>"
            ]
          },
          "metadata": {
            "tags": []
          },
          "execution_count": 22
        }
      ]
    },
    {
      "cell_type": "code",
      "metadata": {
        "id": "hq9AOFcDesu0",
        "colab": {
          "base_uri": "https://localhost:8080/",
          "height": 803
        },
        "outputId": "a9a77e8f-0194-4a26-f449-cbe7b202d7f5"
      },
      "source": [
        "import saspy\n",
        "#sas_session = saspy.SASsession()\n",
        "sas = saspy.SASsession(cfgfile='/content/sascfg_personal.py')\n",
        "sas_session"
      ],
      "execution_count": null,
      "outputs": [
        {
          "output_type": "stream",
          "text": [
            "Using SAS Config named: oda\n",
            "Did not find key oda in authinfo file:/root/.authinfo\n",
            "\n",
            "Please enter the IOM user id: franmarq\n",
            "The OS Error was:\n",
            "No such file or directory\n",
            "\n",
            "SAS Connection failed. No connection established. Double check your settings in sascfg_personal.py file.\n",
            "\n",
            "Attempted to run program C:\\Program Files (x86)\\Common Files\\Oracle\\Java\\javapath\\java.exe with the following parameters:['C:\\\\Program Files (x86)\\\\Common Files\\\\Oracle\\\\Java\\\\javapath\\\\java.exe', '-classpath', '/usr/local/lib/python3.7/dist-packages/saspy/java/saspyiom.jar:/usr/local/lib/python3.7/dist-packages/saspy/java/iomclient/log4j.jar:/usr/local/lib/python3.7/dist-packages/saspy/java/iomclient/sas.security.sspi.jar:/usr/local/lib/python3.7/dist-packages/saspy/java/iomclient/sas.core.jar:/usr/local/lib/python3.7/dist-packages/saspy/java/iomclient/sas.svc.connection.jar:/usr/local/lib/python3.7/dist-packages/saspy/java/iomclient/sas.rutil.jar:/usr/local/lib/python3.7/dist-packages/saspy/java/iomclient/sas.rutil.nls.jar:/usr/local/lib/python3.7/dist-packages/saspy/java/iomclient/sastpj.rutil.jar:/usr/local/lib/python3.7/dist-packages/saspy/java/thirdparty/glassfish-corba-internal-api.jar:/usr/local/lib/python3.7/dist-packages/saspy/java/thirdparty/glassfish-corba-omgapi.jar:/usr/local/lib/python3.7/dist-packages/saspy/java/thirdparty/glassfish-corba-orb.jar:/usr/local/lib/python3.7/dist-packages/saspy/java/thirdparty/pfl-basic.jar:/usr/local/lib/python3.7/dist-packages/saspy/java/thirdparty/pfl-tf.jar', 'pyiom.saspy2j', '-host', 'localhost', '-stdinport', '39061', '-stdoutport', '46935', '-stderrport', '33253', '-iomhost', 'odaws01-usw2.oda.sas.com;odaws02-usw2.oda.sas.com;odaws03-usw2.oda.sas.com;odaws04-usw2.oda.sas.com', '-iomport', '8591', '-user', 'franmarq', '-lrecl', '1048576', '']\n",
            "\n",
            "If no OS Error above, try running the following command (where saspy is running) manually to see what is wrong:\n",
            "C:\\Program Files (x86)\\Common Files\\Oracle\\Java\\javapath\\java.exe -classpath /usr/local/lib/python3.7/dist-packages/saspy/java/saspyiom.jar:/usr/local/lib/python3.7/dist-packages/saspy/java/iomclient/log4j.jar:/usr/local/lib/python3.7/dist-packages/saspy/java/iomclient/sas.security.sspi.jar:/usr/local/lib/python3.7/dist-packages/saspy/java/iomclient/sas.core.jar:/usr/local/lib/python3.7/dist-packages/saspy/java/iomclient/sas.svc.connection.jar:/usr/local/lib/python3.7/dist-packages/saspy/java/iomclient/sas.rutil.jar:/usr/local/lib/python3.7/dist-packages/saspy/java/iomclient/sas.rutil.nls.jar:/usr/local/lib/python3.7/dist-packages/saspy/java/iomclient/sastpj.rutil.jar:/usr/local/lib/python3.7/dist-packages/saspy/java/thirdparty/glassfish-corba-internal-api.jar:/usr/local/lib/python3.7/dist-packages/saspy/java/thirdparty/glassfish-corba-omgapi.jar:/usr/local/lib/python3.7/dist-packages/saspy/java/thirdparty/glassfish-corba-orb.jar:/usr/local/lib/python3.7/dist-packages/saspy/java/thirdparty/pfl-basic.jar:/usr/local/lib/python3.7/dist-packages/saspy/java/thirdparty/pfl-tf.jar pyiom.saspy2j -host localhost -stdinport 39061 -stdoutport 46935 -stderrport 33253 -iomhost odaws01-usw2.oda.sas.com;odaws02-usw2.oda.sas.com;odaws03-usw2.oda.sas.com;odaws04-usw2.oda.sas.com -iomport 8591 -user franmarq -lrecl 1048576  \n",
            "\n",
            "Java Error:\n",
            "\n",
            "\n",
            "SAS Connection failed. No connection established. Staus=(614, 64000)  Double check your settings in sascfg_personal.py file.\n",
            "\n",
            "Attempted to run program C:\\Program Files (x86)\\Common Files\\Oracle\\Java\\javapath\\java.exe with the following parameters:['C:\\\\Program Files (x86)\\\\Common Files\\\\Oracle\\\\Java\\\\javapath\\\\java.exe', '-classpath', '/usr/local/lib/python3.7/dist-packages/saspy/java/saspyiom.jar:/usr/local/lib/python3.7/dist-packages/saspy/java/iomclient/log4j.jar:/usr/local/lib/python3.7/dist-packages/saspy/java/iomclient/sas.security.sspi.jar:/usr/local/lib/python3.7/dist-packages/saspy/java/iomclient/sas.core.jar:/usr/local/lib/python3.7/dist-packages/saspy/java/iomclient/sas.svc.connection.jar:/usr/local/lib/python3.7/dist-packages/saspy/java/iomclient/sas.rutil.jar:/usr/local/lib/python3.7/dist-packages/saspy/java/iomclient/sas.rutil.nls.jar:/usr/local/lib/python3.7/dist-packages/saspy/java/iomclient/sastpj.rutil.jar:/usr/local/lib/python3.7/dist-packages/saspy/java/thirdparty/glassfish-corba-internal-api.jar:/usr/local/lib/python3.7/dist-packages/saspy/java/thirdparty/glassfish-corba-omgapi.jar:/usr/local/lib/python3.7/dist-packages/saspy/java/thirdparty/glassfish-corba-orb.jar:/usr/local/lib/python3.7/dist-packages/saspy/java/thirdparty/pfl-basic.jar:/usr/local/lib/python3.7/dist-packages/saspy/java/thirdparty/pfl-tf.jar', 'pyiom.saspy2j', '-host', 'localhost', '-stdinport', '39061', '-stdoutport', '46935', '-stderrport', '33253', '-iomhost', 'odaws01-usw2.oda.sas.com;odaws02-usw2.oda.sas.com;odaws03-usw2.oda.sas.com;odaws04-usw2.oda.sas.com', '-iomport', '8591', '-user', 'franmarq', '-lrecl', '1048576', '']\n",
            "\n",
            "If no Java Error above, try running the following command (where saspy is running) manually to see if it's a problem starting Java:\n",
            "C:\\Program Files (x86)\\Common Files\\Oracle\\Java\\javapath\\java.exe -classpath /usr/local/lib/python3.7/dist-packages/saspy/java/saspyiom.jar:/usr/local/lib/python3.7/dist-packages/saspy/java/iomclient/log4j.jar:/usr/local/lib/python3.7/dist-packages/saspy/java/iomclient/sas.security.sspi.jar:/usr/local/lib/python3.7/dist-packages/saspy/java/iomclient/sas.core.jar:/usr/local/lib/python3.7/dist-packages/saspy/java/iomclient/sas.svc.connection.jar:/usr/local/lib/python3.7/dist-packages/saspy/java/iomclient/sas.rutil.jar:/usr/local/lib/python3.7/dist-packages/saspy/java/iomclient/sas.rutil.nls.jar:/usr/local/lib/python3.7/dist-packages/saspy/java/iomclient/sastpj.rutil.jar:/usr/local/lib/python3.7/dist-packages/saspy/java/thirdparty/glassfish-corba-internal-api.jar:/usr/local/lib/python3.7/dist-packages/saspy/java/thirdparty/glassfish-corba-omgapi.jar:/usr/local/lib/python3.7/dist-packages/saspy/java/thirdparty/glassfish-corba-orb.jar:/usr/local/lib/python3.7/dist-packages/saspy/java/thirdparty/pfl-basic.jar:/usr/local/lib/python3.7/dist-packages/saspy/java/thirdparty/pfl-tf.jar pyiom.saspy2j -host localhost -stdinport 39061 -stdoutport 46935 -stderrport 33253 -iomhost odaws01-usw2.oda.sas.com;odaws02-usw2.oda.sas.com;odaws03-usw2.oda.sas.com;odaws04-usw2.oda.sas.com -iomport 8591 -user franmarq -lrecl 1048576  \n",
            "\n",
            "No SAS process attached. SAS process has terminated unexpectedly.\n",
            "Invalid response from SAS on inital submission. printing the SASLOG as diagnostic\n",
            "\n"
          ],
          "name": "stdout"
        },
        {
          "output_type": "error",
          "ename": "KeyError",
          "evalue": "ignored",
          "traceback": [
            "\u001b[0;31m---------------------------------------------------------------------------\u001b[0m",
            "\u001b[0;31mKeyError\u001b[0m                                  Traceback (most recent call last)",
            "\u001b[0;32m<ipython-input-21-acff3faf2e18>\u001b[0m in \u001b[0;36m<module>\u001b[0;34m()\u001b[0m\n\u001b[1;32m      1\u001b[0m \u001b[0;32mimport\u001b[0m \u001b[0msaspy\u001b[0m\u001b[0;34m\u001b[0m\u001b[0;34m\u001b[0m\u001b[0m\n\u001b[1;32m      2\u001b[0m \u001b[0;31m#sas_session = saspy.SASsession()\u001b[0m\u001b[0;34m\u001b[0m\u001b[0;34m\u001b[0m\u001b[0;34m\u001b[0m\u001b[0m\n\u001b[0;32m----> 3\u001b[0;31m \u001b[0msas\u001b[0m \u001b[0;34m=\u001b[0m \u001b[0msaspy\u001b[0m\u001b[0;34m.\u001b[0m\u001b[0mSASsession\u001b[0m\u001b[0;34m(\u001b[0m\u001b[0mcfgfile\u001b[0m\u001b[0;34m=\u001b[0m\u001b[0;34m'/content/sascfg_personal.py'\u001b[0m\u001b[0;34m)\u001b[0m\u001b[0;34m\u001b[0m\u001b[0;34m\u001b[0m\u001b[0m\n\u001b[0m\u001b[1;32m      4\u001b[0m \u001b[0msas_session\u001b[0m\u001b[0;34m\u001b[0m\u001b[0;34m\u001b[0m\u001b[0m\n",
            "\u001b[0;32m/usr/local/lib/python3.7/dist-packages/saspy/sasbase.py\u001b[0m in \u001b[0;36m__init__\u001b[0;34m(self, **kwargs)\u001b[0m\n\u001b[1;32m    565\u001b[0m         \u001b[0;32mif\u001b[0m \u001b[0mself\u001b[0m\u001b[0;34m.\u001b[0m\u001b[0msascfg\u001b[0m\u001b[0;34m.\u001b[0m\u001b[0mmode\u001b[0m \u001b[0;34m!=\u001b[0m \u001b[0;34m'HTTP'\u001b[0m\u001b[0;34m:\u001b[0m\u001b[0;34m\u001b[0m\u001b[0;34m\u001b[0m\u001b[0m\n\u001b[1;32m    566\u001b[0m            \u001b[0;32mtry\u001b[0m\u001b[0;34m:\u001b[0m\u001b[0;34m\u001b[0m\u001b[0;34m\u001b[0m\u001b[0m\n\u001b[0;32m--> 567\u001b[0;31m               \u001b[0mself\u001b[0m\u001b[0;34m.\u001b[0m\u001b[0mpyenc\u001b[0m \u001b[0;34m=\u001b[0m \u001b[0msas_encoding_mapping\u001b[0m\u001b[0;34m[\u001b[0m\u001b[0mself\u001b[0m\u001b[0;34m.\u001b[0m\u001b[0msascei\u001b[0m\u001b[0;34m]\u001b[0m\u001b[0;34m\u001b[0m\u001b[0;34m\u001b[0m\u001b[0m\n\u001b[0m\u001b[1;32m    568\u001b[0m            \u001b[0;32mexcept\u001b[0m \u001b[0mKeyError\u001b[0m\u001b[0;34m:\u001b[0m\u001b[0;34m\u001b[0m\u001b[0;34m\u001b[0m\u001b[0m\n\u001b[1;32m    569\u001b[0m               \u001b[0mprint\u001b[0m\u001b[0;34m(\u001b[0m\u001b[0;34m\"Invalid response from SAS on inital submission. printing the SASLOG as diagnostic\"\u001b[0m\u001b[0;34m)\u001b[0m\u001b[0;34m\u001b[0m\u001b[0;34m\u001b[0m\u001b[0m\n",
            "\u001b[0;31mKeyError\u001b[0m: 'No SAS process attached. SAS process has terminated unexpectedly.'"
          ]
        }
      ]
    },
    {
      "cell_type": "code",
      "metadata": {
        "colab": {
          "base_uri": "https://localhost:8080/"
        },
        "id": "qVzoeZq2E3li",
        "outputId": "daa15c21-9fb8-496e-971e-816fe6f890df"
      },
      "source": [
        "import sys\n",
        "sys.path"
      ],
      "execution_count": null,
      "outputs": [
        {
          "output_type": "execute_result",
          "data": {
            "text/plain": [
              "['',\n",
              " '/content',\n",
              " '/env/python',\n",
              " '/usr/lib/python37.zip',\n",
              " '/usr/lib/python3.7',\n",
              " '/usr/lib/python3.7/lib-dynload',\n",
              " '/usr/local/lib/python3.7/dist-packages',\n",
              " '/usr/lib/python3/dist-packages',\n",
              " '/usr/local/lib/python3.7/dist-packages/IPython/extensions',\n",
              " '/root/.ipython']"
            ]
          },
          "metadata": {
            "tags": []
          },
          "execution_count": 20
        }
      ]
    }
  ]
}